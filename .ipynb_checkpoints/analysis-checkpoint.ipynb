{
 "cells": [
  {
   "cell_type": "markdown",
   "id": "93ed2887-2637-46d0-b7c9-6f70490ad637",
   "metadata": {},
   "source": [
    "# Color Palette Analysis: Emotional Impact in Famous Artworks 🎨\n",
    "This project explores the emotional impact of color palettes used in famous artworks. By extracting dominant colors from paintings and mapping them to emotional responses, we aim to uncover the emotional narratives artists convey through their choice of colors.\n",
    "\n",
    "## Objectives:\n",
    "**1. Color Palette Extraction:** Use KMeans clustering to extract dominant color palettes from famous artworks.\n",
    "\n",
    "**2. Emotional Mapping:** Map colors to emotions to analyze the emotional impact of each palette.\n",
    "\n",
    "**3. Advanced Analysis:**\n",
    "- Investigate color harmonies (Complementary, Analogous, Triadic) to understand how they enhance emotional storytelling.\n",
    "- Compare emotional palettes across different art movements (e.g., Renaissance, Baroque, Modernism).\n",
    "\n",
    "**4. Visualization and Insights:** Visualize color palettes, emotional distributions, and advanced insights to draw meaningful conclusions about the emotional language of colors in art.\n",
    "  \n",
    "This project blends the worlds of art, color theory, and data science, offering unique insights into the emotional power of colors."
   ]
  },
  {
   "cell_type": "markdown",
   "id": "ac06e51d-6901-43fa-887f-424bc863dd68",
   "metadata": {},
   "source": [
    "## 1. Import Libraries"
   ]
  },
  {
   "cell_type": "code",
   "execution_count": 1,
   "id": "84f73b5d-c22c-4871-82d5-bb76e10e3707",
   "metadata": {},
   "outputs": [
    {
     "name": "stdout",
     "output_type": "stream",
     "text": [
      "Requirement already satisfied: pillow in /opt/anaconda3/lib/python3.12/site-packages (10.4.0)\n",
      "Requirement already satisfied: numpy in /opt/anaconda3/lib/python3.12/site-packages (1.26.4)\n",
      "Requirement already satisfied: matplotlib in /opt/anaconda3/lib/python3.12/site-packages (3.9.2)\n",
      "Requirement already satisfied: seaborn in /opt/anaconda3/lib/python3.12/site-packages (0.13.2)\n",
      "Requirement already satisfied: scikit-learn in /opt/anaconda3/lib/python3.12/site-packages (1.5.1)\n",
      "Requirement already satisfied: colorthief in /opt/anaconda3/lib/python3.12/site-packages (0.2.1)\n",
      "Requirement already satisfied: pandas in /opt/anaconda3/lib/python3.12/site-packages (2.2.2)\n",
      "Requirement already satisfied: opencv-python in /opt/anaconda3/lib/python3.12/site-packages (4.11.0.86)\n",
      "Requirement already satisfied: contourpy>=1.0.1 in /opt/anaconda3/lib/python3.12/site-packages (from matplotlib) (1.2.0)\n",
      "Requirement already satisfied: cycler>=0.10 in /opt/anaconda3/lib/python3.12/site-packages (from matplotlib) (0.11.0)\n",
      "Requirement already satisfied: fonttools>=4.22.0 in /opt/anaconda3/lib/python3.12/site-packages (from matplotlib) (4.51.0)\n",
      "Requirement already satisfied: kiwisolver>=1.3.1 in /opt/anaconda3/lib/python3.12/site-packages (from matplotlib) (1.4.4)\n",
      "Requirement already satisfied: packaging>=20.0 in /opt/anaconda3/lib/python3.12/site-packages (from matplotlib) (24.1)\n",
      "Requirement already satisfied: pyparsing>=2.3.1 in /opt/anaconda3/lib/python3.12/site-packages (from matplotlib) (3.1.2)\n",
      "Requirement already satisfied: python-dateutil>=2.7 in /opt/anaconda3/lib/python3.12/site-packages (from matplotlib) (2.9.0.post0)\n",
      "Requirement already satisfied: scipy>=1.6.0 in /opt/anaconda3/lib/python3.12/site-packages (from scikit-learn) (1.13.1)\n",
      "Requirement already satisfied: joblib>=1.2.0 in /opt/anaconda3/lib/python3.12/site-packages (from scikit-learn) (1.4.2)\n",
      "Requirement already satisfied: threadpoolctl>=3.1.0 in /opt/anaconda3/lib/python3.12/site-packages (from scikit-learn) (3.5.0)\n",
      "Requirement already satisfied: pytz>=2020.1 in /opt/anaconda3/lib/python3.12/site-packages (from pandas) (2024.1)\n",
      "Requirement already satisfied: tzdata>=2022.7 in /opt/anaconda3/lib/python3.12/site-packages (from pandas) (2023.3)\n",
      "Requirement already satisfied: six>=1.5 in /opt/anaconda3/lib/python3.12/site-packages (from python-dateutil>=2.7->matplotlib) (1.16.0)\n"
     ]
    }
   ],
   "source": [
    "!pip install pillow numpy matplotlib seaborn scikit-learn colorthief pandas opencv-python"
   ]
  },
  {
   "cell_type": "code",
   "execution_count": 2,
   "id": "07ab0a1e-b0e1-40d1-968b-a52a4e6643ad",
   "metadata": {},
   "outputs": [],
   "source": [
    "import os\n",
    "from PIL import Image\n",
    "import numpy as np\n",
    "import matplotlib.pyplot as plt\n",
    "import seaborn as sns\n",
    "from sklearn.cluster import KMeans\n",
    "import pandas as pd\n",
    "import cv2"
   ]
  },
  {
   "cell_type": "markdown",
   "id": "175d7e78-df57-47d3-8162-ce820a7ad525",
   "metadata": {},
   "source": [
    "## 2. Load Artworks"
   ]
  },
  {
   "cell_type": "code",
   "execution_count": 3,
   "id": "80ed08ee-f194-4851-a0da-37c88715d499",
   "metadata": {},
   "outputs": [
    {
     "name": "stdout",
     "output_type": "stream",
     "text": [
      "Loaded 8774 images.\n"
     ]
    }
   ],
   "source": [
    "def load_images(image_folder):\n",
    "    images = []\n",
    "    filenames = []\n",
    "    for image_file in os.listdir(image_folder):\n",
    "        if image_file.endswith(('.png', '.jpg')):\n",
    "            img_path = os.path.join(image_folder, image_file)\n",
    "            try:\n",
    "                img = Image.open(img_path)\n",
    "                images.append(img)\n",
    "                filenames.append(image_file)\n",
    "                img.close()  # Close the image after adding it to the list\n",
    "            except Exception as e:\n",
    "                print(f\"Error loading {image_file}: {e}\")\n",
    "    return images, filenames\n",
    "\n",
    "images, filenames = load_images('artworks/')\n",
    "print(f\"Loaded {len(images)} images.\")"
   ]
  },
  {
   "cell_type": "code",
   "execution_count": null,
   "id": "840d10cd-7a16-4702-a5ae-591dea5cea70",
   "metadata": {},
   "outputs": [],
   "source": []
  }
 ],
 "metadata": {
  "kernelspec": {
   "display_name": "Python 3 (ipykernel)",
   "language": "python",
   "name": "python3"
  },
  "language_info": {
   "codemirror_mode": {
    "name": "ipython",
    "version": 3
   },
   "file_extension": ".py",
   "mimetype": "text/x-python",
   "name": "python",
   "nbconvert_exporter": "python",
   "pygments_lexer": "ipython3",
   "version": "3.12.7"
  }
 },
 "nbformat": 4,
 "nbformat_minor": 5
}
