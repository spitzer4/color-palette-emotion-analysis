{
 "cells": [
  {
   "cell_type": "markdown",
   "id": "93ed2887-2637-46d0-b7c9-6f70490ad637",
   "metadata": {},
   "source": [
    "# Color Palette Analysis: Emotional Impact in Famous Artworks 🎨\n",
    "This project explores the emotional impact of color palettes used in famous artworks. By extracting dominant colors from paintings and mapping them to emotional responses, we aim to uncover the emotional narratives artists convey through their choice of colors.\n",
    "\n",
    "## Objectives:\n",
    "**1. Color Palette Extraction:** Use KMeans clustering to extract dominant color palettes from famous artworks.\n",
    "\n",
    "**2. Emotional Mapping:** Map colors to emotions to analyze the emotional impact of each palette.\n",
    "\n",
    "**3. Advanced Analysis:**\n",
    "- Investigate color harmonies (Complementary, Analogous, Triadic) to understand how they enhance emotional storytelling.\n",
    "- Compare emotional palettes across different art movements (e.g., Renaissance, Baroque, Modernism).\n",
    "\n",
    "**4. Visualization and Insights:** Visualize color palettes, emotional distributions, and advanced insights to draw meaningful conclusions about the emotional language of colors in art.\n",
    "  \n",
    "This project blends the worlds of art, color theory, and data science, offering unique insights into the emotional power of colors."
   ]
  },
  {
   "cell_type": "code",
   "execution_count": null,
   "id": "808cd073-cc43-4989-8bd1-d720ecc3c708",
   "metadata": {},
   "outputs": [],
   "source": []
  }
 ],
 "metadata": {
  "kernelspec": {
   "display_name": "Python 3 (ipykernel)",
   "language": "python",
   "name": "python3"
  },
  "language_info": {
   "codemirror_mode": {
    "name": "ipython",
    "version": 3
   },
   "file_extension": ".py",
   "mimetype": "text/x-python",
   "name": "python",
   "nbconvert_exporter": "python",
   "pygments_lexer": "ipython3",
   "version": "3.12.7"
  }
 },
 "nbformat": 4,
 "nbformat_minor": 5
}
