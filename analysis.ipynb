{
 "cells": [
  {
   "cell_type": "markdown",
   "id": "93ed2887-2637-46d0-b7c9-6f70490ad637",
   "metadata": {},
   "source": [
    "# Color Palette Analysis: Emotional Impact in Famous Artworks 🎨\n",
    "This project explores the emotional impact of color palettes used in famous artworks. By extracting dominant colors from paintings and mapping them to emotional responses, we aim to uncover the emotional narratives artists convey through their choice of colors.\n",
    "\n",
    "## Objectives:\n",
    "**1. Color Palette Extraction:** Use KMeans clustering to extract dominant color palettes from famous artworks.\n",
    "\n",
    "**2. Emotional Mapping:** Map colors to emotions to analyze the emotional impact of each palette.\n",
    "\n",
    "**3. Advanced Analysis:**\n",
    "- Investigate color harmonies (Complementary, Analogous, Triadic) to understand how they enhance emotional storytelling.\n",
    "- Compare emotional palettes across different art movements (e.g., Renaissance, Baroque, Modernism).\n",
    "\n",
    "**4. Visualization and Insights:** Visualize color palettes, emotional distributions, and advanced insights to draw meaningful conclusions about the emotional language of colors in art.\n",
    "  \n",
    "This project blends the worlds of art, color theory, and data science, offering unique insights into the emotional power of colors."
   ]
  },
  {
   "cell_type": "markdown",
   "id": "ac06e51d-6901-43fa-887f-424bc863dd68",
   "metadata": {},
   "source": [
    "## 1. Import Libraries"
   ]
  },
  {
   "cell_type": "code",
   "execution_count": 1,
   "id": "84f73b5d-c22c-4871-82d5-bb76e10e3707",
   "metadata": {},
   "outputs": [
    {
     "name": "stdout",
     "output_type": "stream",
     "text": [
      "Requirement already satisfied: pillow in /opt/anaconda3/lib/python3.12/site-packages (10.4.0)\n",
      "Requirement already satisfied: numpy in /opt/anaconda3/lib/python3.12/site-packages (1.26.4)\n",
      "Requirement already satisfied: matplotlib in /opt/anaconda3/lib/python3.12/site-packages (3.9.2)\n",
      "Requirement already satisfied: seaborn in /opt/anaconda3/lib/python3.12/site-packages (0.13.2)\n",
      "Requirement already satisfied: scikit-learn in /opt/anaconda3/lib/python3.12/site-packages (1.5.1)\n",
      "Requirement already satisfied: colorthief in /opt/anaconda3/lib/python3.12/site-packages (0.2.1)\n",
      "Requirement already satisfied: pandas in /opt/anaconda3/lib/python3.12/site-packages (2.2.2)\n",
      "Requirement already satisfied: opencv-python in /opt/anaconda3/lib/python3.12/site-packages (4.11.0.86)\n",
      "Requirement already satisfied: contourpy>=1.0.1 in /opt/anaconda3/lib/python3.12/site-packages (from matplotlib) (1.2.0)\n",
      "Requirement already satisfied: cycler>=0.10 in /opt/anaconda3/lib/python3.12/site-packages (from matplotlib) (0.11.0)\n",
      "Requirement already satisfied: fonttools>=4.22.0 in /opt/anaconda3/lib/python3.12/site-packages (from matplotlib) (4.51.0)\n",
      "Requirement already satisfied: kiwisolver>=1.3.1 in /opt/anaconda3/lib/python3.12/site-packages (from matplotlib) (1.4.4)\n",
      "Requirement already satisfied: packaging>=20.0 in /opt/anaconda3/lib/python3.12/site-packages (from matplotlib) (24.1)\n",
      "Requirement already satisfied: pyparsing>=2.3.1 in /opt/anaconda3/lib/python3.12/site-packages (from matplotlib) (3.1.2)\n",
      "Requirement already satisfied: python-dateutil>=2.7 in /opt/anaconda3/lib/python3.12/site-packages (from matplotlib) (2.9.0.post0)\n",
      "Requirement already satisfied: scipy>=1.6.0 in /opt/anaconda3/lib/python3.12/site-packages (from scikit-learn) (1.13.1)\n",
      "Requirement already satisfied: joblib>=1.2.0 in /opt/anaconda3/lib/python3.12/site-packages (from scikit-learn) (1.4.2)\n",
      "Requirement already satisfied: threadpoolctl>=3.1.0 in /opt/anaconda3/lib/python3.12/site-packages (from scikit-learn) (3.5.0)\n",
      "Requirement already satisfied: pytz>=2020.1 in /opt/anaconda3/lib/python3.12/site-packages (from pandas) (2024.1)\n",
      "Requirement already satisfied: tzdata>=2022.7 in /opt/anaconda3/lib/python3.12/site-packages (from pandas) (2023.3)\n",
      "Requirement already satisfied: six>=1.5 in /opt/anaconda3/lib/python3.12/site-packages (from python-dateutil>=2.7->matplotlib) (1.16.0)\n"
     ]
    }
   ],
   "source": [
    "!pip install pillow numpy matplotlib seaborn scikit-learn colorthief pandas opencv-python"
   ]
  },
  {
   "cell_type": "code",
   "execution_count": 2,
   "id": "07ab0a1e-b0e1-40d1-968b-a52a4e6643ad",
   "metadata": {},
   "outputs": [],
   "source": [
    "import os\n",
    "from PIL import Image\n",
    "import numpy as np\n",
    "import matplotlib.pyplot as plt\n",
    "import seaborn as sns\n",
    "from sklearn.cluster import KMeans\n",
    "import pandas as pd\n",
    "import cv2\n",
    "import random\n",
    "from shutil import copyfile"
   ]
  },
  {
   "cell_type": "markdown",
   "id": "175d7e78-df57-47d3-8162-ce820a7ad525",
   "metadata": {},
   "source": [
    "## 2. Load Artworks"
   ]
  },
  {
   "cell_type": "code",
   "execution_count": 3,
   "id": "80ed08ee-f194-4851-a0da-37c88715d499",
   "metadata": {},
   "outputs": [
    {
     "name": "stdout",
     "output_type": "stream",
     "text": [
      "Sampled 900 images and saved to 'sample_artworks'\n"
     ]
    }
   ],
   "source": [
    "image_folder = \"artworks\" # Folder where all artwork images are stored\n",
    "sample_folder = \"sample_artworks\" # Folder to save the sampled images\n",
    "sample_size = 900 # Number of images to sample\n",
    "n_clusters = 5 # Number of dominant colors to extract\n",
    "image_size = (300, 300) # Resize images for faster processing\n",
    "\n",
    "# Create the sample folder if it doesn't exist\n",
    "if not os.path.exists(sample_folder):\n",
    "    os.makedirs(sample_folder)\n",
    "\n",
    "# Get all image filenames\n",
    "all_images = [img for img in os.listdir(image_folder) if img.endswith(('.png', '.jpg'))]\n",
    "\n",
    "# Randomly sample the images\n",
    "sampled_images = random.sample(all_images, sample_size)\n",
    "\n",
    "# Copy sampled images to the new folder\n",
    "for image_file in sampled_images:\n",
    "    src = os.path.join(image_folder, image_file)\n",
    "    dst = os.path.join(sample_folder, image_file)\n",
    "    copyfile(src, dst)\n",
    "\n",
    "print(f\"Sampled {sample_size} images and saved to '{sample_folder}'\")"
   ]
  },
  {
   "cell_type": "code",
   "execution_count": 4,
   "id": "e0f68cd9-df54-4ec8-93c8-76f5fdbd4040",
   "metadata": {},
   "outputs": [
    {
     "name": "stdout",
     "output_type": "stream",
     "text": [
      "Loaded 1701 images for analysis.\n"
     ]
    }
   ],
   "source": [
    "def load_and_preprocess_images(folder):\n",
    "    images = []\n",
    "    for img_file in os.listdir(folder):\n",
    "        try:\n",
    "            img_path = os.path.join(folder, img_file)\n",
    "            with Image.open(img_path) as img:\n",
    "                img = img.resize(image_size)  # Resize for faster processing\n",
    "                img = img.convert('RGB')     # Ensure 3 color channels\n",
    "                images.append(np.array(img))\n",
    "        except Exception as e:\n",
    "            print(f\"Failed to load {img_file}: {e}\")\n",
    "    return images\n",
    "\n",
    "images = load_and_preprocess_images(sample_folder)\n",
    "print(f\"Loaded {len(images)} images for analysis.\")"
   ]
  },
  {
   "cell_type": "markdown",
   "id": "d2494844-c608-4cca-b2f3-431d8fc76057",
   "metadata": {},
   "source": [
    "## 3. Extract Color Palettes"
   ]
  },
  {
   "cell_type": "code",
   "execution_count": 5,
   "id": "cd720e10-3b52-403c-9b50-c3e2d45b1db1",
   "metadata": {},
   "outputs": [],
   "source": [
    "def extract_palette(image, n_clusters=n_clusters):\n",
    "    # Reshape image to a 2D array of pixels\n",
    "    pixels = image.reshape(-1, 3)\n",
    "    \n",
    "    # Fit KMeans to find dominant colors\n",
    "    kmeans = KMeans(n_clusters=n_clusters, random_state=42).fit(pixels)\n",
    "    palette = kmeans.cluster_centers_.astype(int)\n",
    "    return palette\n",
    "\n",
    "def plot_palette(palette):\n",
    "    # Display the palette as a horizontal bar\n",
    "    palette_img = np.zeros((50, 300, 3), dtype='uint8')\n",
    "    steps = 300 // len(palette)\n",
    "    for i, color in enumerate(palette):\n",
    "        palette_img[:, i * steps:(i + 1) * steps] = color\n",
    "    plt.imshow(palette_img)\n",
    "    plt.axis('off')\n",
    "    plt.show()"
   ]
  },
  {
   "cell_type": "code",
   "execution_count": 6,
   "id": "126a3982-a40c-41c7-a76b-e2633061325b",
   "metadata": {},
   "outputs": [
    {
     "name": "stdout",
     "output_type": "stream",
     "text": [
      "Image 1 Color Palette:\n"
     ]
    },
    {
     "data": {
      "image/png": "[encoded data removed]",
      "text/plain": [
       "<Figure size 640x480 with 1 Axes>"
      ]
     },
     "metadata": {},
     "output_type": "display_data"
    },
    {
     "name": "stdout",
     "output_type": "stream",
     "text": [
      "Image 2 Color Palette:\n"
     ]
    },
    {
     "data": {
      "image/png": "[encoded data removed]",
      "text/plain": [
       "<Figure size 640x480 with 1 Axes>"
      ]
     },
     "metadata": {},
     "output_type": "display_data"
    },
    {
     "name": "stdout",
     "output_type": "stream",
     "text": [
      "Image 3 Color Palette:\n"
     ]
    },
    {
     "data": {
      "image/png": "[encoded data removed]",
      "text/plain": [
       "<Figure size 640x480 with 1 Axes>"
      ]
     },
     "metadata": {},
     "output_type": "display_data"
    },
    {
     "name": "stdout",
     "output_type": "stream",
     "text": [
      "Image 4 Color Palette:\n"
     ]
    },
    {
     "data": {
      "image/png": "[encoded data removed]",
      "text/plain": [
       "<Figure size 640x480 with 1 Axes>"
      ]
     },
     "metadata": {},
     "output_type": "display_data"
    },
    {
     "name": "stdout",
     "output_type": "stream",
     "text": [
      "Image 5 Color Palette:\n"
     ]
    },
    {
     "data": {
      "image/png": "[encoded data removed]",
      "text/plain": [
       "<Figure size 640x480 with 1 Axes>"
      ]
     },
     "metadata": {},
     "output_type": "display_data"
    }
   ],
   "source": [
    "# Extract and display color palettes for a few sample images\n",
    "for i, img in enumerate(images[:5]):\n",
    "    palette = extract_palette(img)\n",
    "    print(f\"Image {i+1} Color Palette:\")\n",
    "    plot_palette(palette)"
   ]
  },
  {
   "cell_type": "markdown",
   "id": "4cb9c18b-2bc4-43eb-b04c-209da2e2b696",
   "metadata": {},
   "source": [
    "## 4. Advanced Analysis -- Clustering and Emotional Analysis"
   ]
  },
  {
   "cell_type": "code",
   "execution_count": 7,
   "id": "5bf466ad-b163-4207-9996-8ff36756df62",
   "metadata": {},
   "outputs": [
    {
     "ename": "NameError",
     "evalue": "name 'PCA' is not defined",
     "output_type": "error",
     "traceback": [
      "\u001b[0;31m---------------------------------------------------------------------------\u001b[0m",
      "\u001b[0;31mNameError\u001b[0m                                 Traceback (most recent call last)",
      "Cell \u001b[0;32mIn[7], line 3\u001b[0m\n\u001b[1;32m      1\u001b[0m \u001b[38;5;66;03m# Flatten all images and fit PCA for dimensionality reduction\u001b[39;00m\n\u001b[1;32m      2\u001b[0m flattened_images \u001b[38;5;241m=\u001b[39m [img\u001b[38;5;241m.\u001b[39mreshape(\u001b[38;5;241m-\u001b[39m\u001b[38;5;241m1\u001b[39m, \u001b[38;5;241m3\u001b[39m)\u001b[38;5;241m.\u001b[39mmean(axis\u001b[38;5;241m=\u001b[39m\u001b[38;5;241m0\u001b[39m) \u001b[38;5;28;01mfor\u001b[39;00m img \u001b[38;5;129;01min\u001b[39;00m images]\n\u001b[0;32m----> 3\u001b[0m pca \u001b[38;5;241m=\u001b[39m PCA(n_components\u001b[38;5;241m=\u001b[39m\u001b[38;5;241m2\u001b[39m)\n\u001b[1;32m      4\u001b[0m image_embeddings \u001b[38;5;241m=\u001b[39m pca\u001b[38;5;241m.\u001b[39mfit_transform(flattened_images)\n\u001b[1;32m      6\u001b[0m \u001b[38;5;66;03m# Cluster images based on color distributions\u001b[39;00m\n",
      "\u001b[0;31mNameError\u001b[0m: name 'PCA' is not defined"
     ]
    }
   ],
   "source": []
  },
  {
   "cell_type": "code",
   "execution_count": null,
   "id": "5d91646d-03d8-45ec-bcdf-e261395a5efd",
   "metadata": {},
   "outputs": [],
   "source": []
  }
 ],
 "metadata": {
  "kernelspec": {
   "display_name": "Python 3 (ipykernel)",
   "language": "python",
   "name": "python3"
  },
  "language_info": {
   "codemirror_mode": {
    "name": "ipython",
    "version": 3
   },
   "file_extension": ".py",
   "mimetype": "text/x-python",
   "name": "python",
   "nbconvert_exporter": "python",
   "pygments_lexer": "ipython3",
   "version": "3.12.7"
  }
 },
 "nbformat": 4,
 "nbformat_minor": 5
}
